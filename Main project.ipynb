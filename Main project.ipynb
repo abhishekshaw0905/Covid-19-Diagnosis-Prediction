{
 "cells": [
  {
   "cell_type": "markdown",
   "id": "aa59c20d",
   "metadata": {},
   "source": [
    "# Project Understanding"
   ]
  },
  {
   "cell_type": "code",
   "execution_count": 1,
   "id": "608ec0f4",
   "metadata": {},
   "outputs": [
    {
     "ename": "SyntaxError",
     "evalue": "invalid character '‘' (U+2018) (899152973.py, line 3)",
     "output_type": "error",
     "traceback": [
      "\u001b[1;36m  Cell \u001b[1;32mIn[1], line 3\u001b[1;36m\u001b[0m\n\u001b[1;33m    burden on healthcare systems. There have been built prediction models that assess the likelihood of infection by combining a number of parameters. These are meant to help medical professionals all over the world treat patients, especially in light of the scarcity of healthcare resources. The current dataset has been downloaded from ‘ABC’ government website and contains around 2,78,848 individuals who have gone through the RT-PCR test.Dataset contains 11 columns,including 8 features suspected to play an important role in the prediction of COVID19 outcome. Outcome variable is covid result test positive or negative. We have data from 11th March 2020 till 30th April 2020. Please consider 11th March till 15th April as a training and validation set.From 16th April till 30th April as a test set. Please further divide training and validation set at a ratio of 4:1.\u001b[0m\n\u001b[1;37m                                                                                                                                                                                                                                                                                                                                                  ^\u001b[0m\n\u001b[1;31mSyntaxError\u001b[0m\u001b[1;31m:\u001b[0m invalid character '‘' (U+2018)\n"
     ]
    }
   ],
   "source": [
    "\n",
    "Understandig Business Problem:-\n",
    "A speedy and accurate diagnosis of COVID-19 is made possible by effective SARS-CoV-2 screening, which can also lessen the\n",
    "burden on healthcare systems. There have been built prediction models that assess the likelihood of infection by combining a number of parameters. These are meant to help medical professionals all over the world treat patients, especially in light of the scarcity of healthcare resources. The current dataset has been downloaded from ‘ABC’ government website and contains around 2,78,848 individuals who have gone through the RT-PCR test.Dataset contains 11 columns,including 8 features suspected to play an important role in the prediction of COVID19 outcome. Outcome variable is covid result test positive or negative. We have data from 11th March 2020 till 30th April 2020. Please consider 11th March till 15th April as a training and validation set.From 16th April till 30th April as a test set. Please further divide training and validation set at a ratio of 4:1.\n",
    "\n",
    "Q1.Why is your proposal important in today’s world? How predicting a disease accurately can improve medical treatment?\n",
    "Predicting disesase accurately using Machine learning. Particularly for COVID-19 hold significant importance in today's world as early detection of such disease on the basis of symptoms can help the healthcare facility to isolate and treat the patient timely this is crucial to prevent the spread of disease\n",
    "\n",
    "Q2.How is it going to impact the medical field when it comes to effective screening and reducing health care burden.\n",
    "Our medical facilities are using test such as RAT (Rapid Antigen Test) to detect whether a person is COVID affected,while our ML model use patient data to detect whether a particular patient is COVID affected or not with almost accuracy this help to reduce the burden of testing and screening on the healthcare facilities.\n",
    "\n",
    "Q3.If any, what is the gap in the knowledge or how your proposed method can be helpful if required in future for any other disease.\n",
    "Bad quality of data or missing data can prove to be a problem for a such model but if it works well for COVID-19,We might use a similar approach for other diseases in the future.It is like having a valuable tool for our medical facilities.\n",
    "\n",
    "Initial Hypothesis\n",
    "Prediction hypothesis: Prediction hypothesis with think we can predict COVID-19 by looking at symptoms and some personal info.\n",
    "\n",
    "Benefit of accurate prediction: Accurate prediction can speed up treatment, resource use and disease management, reducing the strain on healthcare.\n",
    "\n",
    "Common symptoms of hypothesis: COVID-19 often causes coughing, fever and breathing problem.\n",
    "\n",
    "Uncommon symptoms Hypothesis: People without COVID-19 are less likely to have a store sore throat or headache.\n",
    "\n",
    "symptoms Specific group: Men with COVID-19, who have been in contact with people from other countries might have more coughing and fever.\n",
    "\n",
    "Age and severity Hypothesis: Those 60 and older age, might have more severe symptoms, especially trouble getting breathing.\n",
    "\n",
    "Description of the Dataset\n",
    "A. Basic information:\n",
    "\n",
    "ID (Individual ID)----int\n",
    "\n",
    "Sex (male/female)----categorical\n",
    "\n",
    "Age ≥60 above years (true/false)---categorical\n",
    "\n",
    "Test date (date when tested for COVID)----date\n",
    "\n",
    "B. Symptoms:\n",
    "\n",
    "Cough (true/false)----categorical\n",
    "\n",
    "Fever (true/false)----categorical\n",
    "\n",
    "Sore throat (true/false)----categorical\n",
    "\n",
    "Shortness of breath (true/false)----categorical\n",
    "\n",
    "Headache (true/false)----categorical\n",
    "\n",
    "C. Other information:\n",
    "\n",
    "Known contact with an individual confirmed to have COVID-19 (true/false)----categorical\n",
    "D. Covid report\n",
    "\n",
    "Corona positive or negative----categorical"
   ]
  }
 ],
 "metadata": {
  "kernelspec": {
   "display_name": "Python 3 (ipykernel)",
   "language": "python",
   "name": "python3"
  },
  "language_info": {
   "codemirror_mode": {
    "name": "ipython",
    "version": 3
   },
   "file_extension": ".py",
   "mimetype": "text/x-python",
   "name": "python",
   "nbconvert_exporter": "python",
   "pygments_lexer": "ipython3",
   "version": "3.10.9"
  }
 },
 "nbformat": 4,
 "nbformat_minor": 5
}
